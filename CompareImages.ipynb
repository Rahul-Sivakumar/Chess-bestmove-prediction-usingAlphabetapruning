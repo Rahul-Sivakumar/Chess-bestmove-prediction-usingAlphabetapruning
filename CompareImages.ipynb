{
 "cells": [
  {
   "cell_type": "code",
   "execution_count": 2,
   "id": "bedd2727",
   "metadata": {
    "scrolled": true
   },
   "outputs": [
    {
     "name": "stdout",
     "output_type": "stream",
     "text": [
      "Requirement already satisfied: mss in c:\\users\\rahul\\appdata\\roaming\\python\\python39\\site-packages (6.1.0)Note: you may need to restart the kernel to use updated packages.\n",
      "\n"
     ]
    }
   ],
   "source": [
    "pip install mss\n"
   ]
  },
  {
   "cell_type": "code",
   "execution_count": 2,
   "id": "9871d07e",
   "metadata": {},
   "outputs": [
    {
     "name": "stdout",
     "output_type": "stream",
     "text": [
      "Collecting imutils\n",
      "  Downloading imutils-0.5.4.tar.gz (17 kB)\n",
      "Building wheels for collected packages: imutils\n",
      "  Building wheel for imutils (setup.py): started\n",
      "  Building wheel for imutils (setup.py): finished with status 'done'\n",
      "  Created wheel for imutils: filename=imutils-0.5.4-py3-none-any.whl size=25860 sha256=f0d1e06933441e32b2a5c625f80aab4bad9403e9e8d575ee631ca7804f22ae25\n",
      "  Stored in directory: c:\\users\\rahul\\appdata\\local\\pip\\cache\\wheels\\4b\\a5\\2d\\4a070a801d3a3d93f033d3ee9728f470f514826e89952df3ea\n",
      "Successfully built imutils\n",
      "Installing collected packages: imutils\n",
      "Successfully installed imutils-0.5.4\n",
      "Note: you may need to restart the kernel to use updated packages.\n"
     ]
    }
   ],
   "source": [
    "pip install imutils"
   ]
  },
  {
   "cell_type": "code",
   "execution_count": 1,
   "id": "62c209a8",
   "metadata": {},
   "outputs": [],
   "source": [
    "import numpy as np\n",
    "import cv2\n",
    "from mss import mss\n",
    "from PIL import Image\n",
    "import imutils\n",
    "import time\n",
    "import mss.tools as msstools\n",
    "\n",
    "\n",
    "def compare_images(path1,path2,path3):\n",
    "    #get the images you want to compare.\n",
    "    original = cv2.imread(path1)\n",
    "    new = cv2.imread(path2)\n",
    "    #resize the images to make them small in size. A bigger size image may take a significant time\n",
    "    #more computing power and time\n",
    "\n",
    "\n",
    "    #create a copy of original image so that we can store the\n",
    "    #difference of 2 images in the same on\n",
    "    diff = original.copy()\n",
    "    cv2.absdiff(original, new, diff)\n",
    "\n",
    "    #converting the difference into grayscale images\n",
    "    gray = cv2.cvtColor(diff, cv2.COLOR_BGR2GRAY)\n",
    "\n",
    "    #increasing the size of differences after that we can capture them all\n",
    "    for i in range(0, 3):\n",
    "        dilated = cv2.dilate(gray.copy(), None, iterations= i+ 1)\n",
    "\n",
    "\n",
    "    #threshold the gray image to binary it. Anything pixel that has\n",
    "    #value higher than 3 we are converting to white\n",
    "    #(remember 0 is black and 255 is exact white)\n",
    "    #the image is called binarised as any value lower than 3 will be 0 and\n",
    "    # all of the values equal to and higher than 3 will be 255\n",
    "    (T, thresh) = cv2.threshold(dilated, 3, 255, cv2.THRESH_BINARY)\n",
    "\n",
    "    # now we have to find contours in the binarized image\n",
    "    cnts = cv2.findContours(thresh, cv2.RETR_LIST, cv2.CHAIN_APPROX_SIMPLE)\n",
    "    cnts = imutils.grab_contours(cnts)\n",
    "    \n",
    "    boxes=[]\n",
    "    for c in cnts:\n",
    "        # nicely fiting a bounding box to the contour\n",
    "        (x, y, w, h) = cv2.boundingRect(c)\n",
    "        cv2.rectangle(new, (x, y), (x + w, y + h), (0, 255, 0), 2)\n",
    "        boxes.append((x, y, w, h))\n",
    "    \n",
    "    #remove comments from below 2 lines if you want to\n",
    "    #for viewing the image press any key to continue\n",
    "    #simply write the identified changes to the disk\n",
    "    cv2.imwrite(path3, new)\n",
    "    return boxes"
   ]
  },
  {
   "cell_type": "code",
   "execution_count": null,
   "id": "329bb5f8",
   "metadata": {},
   "outputs": [],
   "source": []
  }
 ],
 "metadata": {
  "kernelspec": {
   "display_name": "Python 3 (ipykernel)",
   "language": "python",
   "name": "python3"
  },
  "language_info": {
   "codemirror_mode": {
    "name": "ipython",
    "version": 3
   },
   "file_extension": ".py",
   "mimetype": "text/x-python",
   "name": "python",
   "nbconvert_exporter": "python",
   "pygments_lexer": "ipython3",
   "version": "3.9.7"
  }
 },
 "nbformat": 4,
 "nbformat_minor": 5
}
