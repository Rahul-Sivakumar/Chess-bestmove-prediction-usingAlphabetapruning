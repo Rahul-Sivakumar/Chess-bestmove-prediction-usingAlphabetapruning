{
 "cells": [
  {
   "cell_type": "code",
   "execution_count": 10,
   "id": "4f665585",
   "metadata": {},
   "outputs": [
    {
     "name": "stdout",
     "output_type": "stream",
     "text": [
      "You Pressed A Key!\n"
     ]
    }
   ],
   "source": [
    "import keyboard  # using module keyboard\n",
    "while True:  # making a loop\n",
    "    try:  # used try so that if user pressed other than the given key error will not be shown\n",
    "        if keyboard.is_pressed('1'):  # if key 'q' is pressed \n",
    "            print('You Pressed A Key!')\n",
    "            break  # finishing the loop\n",
    "    except:\n",
    "        break  # if user pressed a key other than the given key the loop will break"
   ]
  },
  {
   "cell_type": "markdown",
   "id": "0b3a44b9",
   "metadata": {},
   "source": [
    "# "
   ]
  },
  {
   "cell_type": "code",
   "execution_count": null,
   "id": "2b5f5d06",
   "metadata": {},
   "outputs": [],
   "source": [
    "q\n"
   ]
  }
 ],
 "metadata": {
  "kernelspec": {
   "display_name": "Python 3 (ipykernel)",
   "language": "python",
   "name": "python3"
  },
  "language_info": {
   "codemirror_mode": {
    "name": "ipython",
    "version": 3
   },
   "file_extension": ".py",
   "mimetype": "text/x-python",
   "name": "python",
   "nbconvert_exporter": "python",
   "pygments_lexer": "ipython3",
   "version": "3.9.7"
  }
 },
 "nbformat": 4,
 "nbformat_minor": 5
}
